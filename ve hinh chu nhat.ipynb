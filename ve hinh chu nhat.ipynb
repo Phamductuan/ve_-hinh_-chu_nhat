{
 "cells": [
  {
   "cell_type": "code",
   "execution_count": null,
   "id": "f3453779",
   "metadata": {},
   "outputs": [],
   "source": [
    "import turtle\n",
    "import math\n",
    "t = turtle. Turtle()\n",
    "def drawrectangle(m,width,height,color):\n",
    "    t.fillcolor(color)\n",
    "    t.begin_fill()\n",
    "    for i in range(2):\n",
    "        t.fd(width)\n",
    "        t.lt(90)\n",
    "        t.fd(height)\n",
    "        t.lt(90)\n",
    "    t.end_fill()\n",
    "drawrectangle(t,100,150,\"red\")\n",
    "turtle.done()"
   ]
  }
 ],
 "metadata": {
  "kernelspec": {
   "display_name": "Python 3 (ipykernel)",
   "language": "python",
   "name": "python3"
  },
  "language_info": {
   "codemirror_mode": {
    "name": "ipython",
    "version": 3
   },
   "file_extension": ".py",
   "mimetype": "text/x-python",
   "name": "python",
   "nbconvert_exporter": "python",
   "pygments_lexer": "ipython3",
   "version": "3.9.6"
  }
 },
 "nbformat": 4,
 "nbformat_minor": 5
}
